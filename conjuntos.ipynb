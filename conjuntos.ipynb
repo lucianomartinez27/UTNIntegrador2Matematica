{
 "cells": [
  {
   "cell_type": "code",
   "id": "initial_id",
   "metadata": {
    "collapsed": true
   },
   "source": "import json",
   "outputs": [],
   "execution_count": null
  },
  {
   "metadata": {},
   "cell_type": "markdown",
   "source": [
    "#### Parte 1 – Desarrollo Matemático (Conjuntos y Lógica)\n",
    "\n",
    "**DNI Luciano:** 38262759\n",
    "**DNI Santiago:** 40679033\n",
    "\n",
    "**Conjuntos:**\n",
    "$A = \\{2, 3, 5, 6, 7, 8, 9\\}$\n",
    "$B = \\{0, 3, 4, 6, 7, 9\\}$"
   ],
   "id": "61be905ad0c1d3e1"
  },
  {
   "metadata": {},
   "cell_type": "code",
   "source": [
    "def convertir_a_conjunto(dni):\n",
    "    conjunto = []\n",
    "    for numero in dni:\n",
    "        if numero not in conjunto:\n",
    "            conjunto.append(numero)\n",
    "    conjunto.sort()\n",
    "    return conjunto\n",
    "\n",
    "dni_luciano = \"38262759\"\n",
    "dni_santiago = \"40679033\"\n",
    "conjunto_a = convertir_a_conjunto(dni_luciano)\n",
    "conjunto_b = convertir_a_conjunto(dni_santiago)\n",
    "print(\"A: \", conjunto_a)\n",
    "print(\"B: \", conjunto_b)"
   ],
   "id": "a91767366aed2f63",
   "outputs": [],
   "execution_count": null
  },
  {
   "metadata": {},
   "cell_type": "markdown",
   "source": [
    "#### Operaciones:\n",
    "\n",
    "**Unión**\n",
    "* **Qué hace:** Reúne todos los elementos que están en A, en B o en ambos.\n",
    "* $A \\cup B = \\{0, 2, 3, 4, 5, 6, 7, 8, 9\\}$\n",
    "* ![](imagenes/union.png)"
   ],
   "id": "ce9c4e09bdf6523f"
  },
  {
   "metadata": {},
   "cell_type": "code",
   "source": [
    "def calcular_union(conjunto1, conjunto2):\n",
    "    union = [numero for numero in conjunto1]\n",
    "    for numero in conjunto2:\n",
    "        if numero not in union:\n",
    "            union.append(numero)\n",
    "    union.sort()\n",
    "    return union\n",
    "\n",
    "print(f\"Union: {calcular_union(conjunto_a, conjunto_b)}\")"
   ],
   "id": "be74a05e29cf4c6f",
   "outputs": [],
   "execution_count": null
  },
  {
   "metadata": {},
   "cell_type": "markdown",
   "source": [
    "**Intersección**\n",
    "* **Qué hace:** Toma solo los elementos que están en ambos conjuntos.\n",
    "* $A \\cap B = \\{3, 6, 7, 9\\}$\n",
    "* ![](imagenes/interseccion.png)"
   ],
   "id": "1822950143705b1b"
  },
  {
   "metadata": {},
   "cell_type": "code",
   "source": [
    "def calcular_interseccion(conjunto1, conjunto2):\n",
    "    interseccion = []\n",
    "    for numero in conjunto1:\n",
    "        if numero in conjunto2:\n",
    "            interseccion.append(numero)\n",
    "    interseccion.sort()\n",
    "    return interseccion\n",
    "\n",
    "print(f\"Interseccion: {calcular_interseccion(conjunto_a, conjunto_b)}\")"
   ],
   "id": "621ebdc3d377d4e",
   "outputs": [],
   "execution_count": null
  },
  {
   "metadata": {},
   "cell_type": "markdown",
   "source": [
    "**Diferencia**\n",
    "* **Qué hace:** Muestra los elementos que están en A pero no en B.\n",
    "* $A - B = \\{2, 5, 8\\}$\n",
    "* ![](imagenes/diferencia.png)"
   ],
   "id": "335d59843819a85f"
  },
  {
   "metadata": {},
   "cell_type": "code",
   "source": [
    "def calcular_diferencia(conjunto1, conjunto2):\n",
    "    diferencia = [numero for numero in conjunto1]\n",
    "    for numero in conjunto2:\n",
    "        if numero in diferencia:\n",
    "            diferencia.remove(numero)\n",
    "    diferencia.sort()\n",
    "    return diferencia\n",
    "\n",
    "print(f\"Diferencia: {calcular_diferencia(conjunto_a, conjunto_b)}\")"
   ],
   "id": "e36f115e809f0ec5",
   "outputs": [],
   "execution_count": null
  },
  {
   "metadata": {},
   "cell_type": "markdown",
   "source": [
    "**Diferencia simétrica**\n",
    "* **Qué hace:** Muestra los elementos que están en A o en B pero no en ambos.\n",
    "* $A \\Delta B = \\{0, 2, 4, 5, 8\\}$\n",
    "* ![](imagenes/diferencia_simetrica.png)"
   ],
   "id": "f9670871c6812bf2"
  },
  {
   "metadata": {},
   "cell_type": "code",
   "source": [
    "\n",
    "def calcular_diferencia_simetrica(conjunto1, conjunto2):\n",
    "    union = calcular_union(conjunto1, conjunto2)\n",
    "    interseccion = calcular_interseccion(conjunto1, conjunto2)\n",
    "    diferencia = []\n",
    "    for numero in union:\n",
    "        if numero not in interseccion:\n",
    "            diferencia.append(numero)\n",
    "    diferencia.sort()\n",
    "    return diferencia\n",
    "\n",
    "print(f\"Diferencia Simétrica: {calcular_diferencia_simetrica(conjunto_a, conjunto_b)}\")\n"
   ],
   "id": "13bede4b19880a39",
   "outputs": [],
   "execution_count": null
  },
  {
   "metadata": {},
   "cell_type": "markdown",
   "source": "* Conteo de frecuencia de cada dígito en cada DNI utilizando estructuras repetitivas.",
   "id": "f928ea76b8d605f6"
  },
  {
   "metadata": {
    "ExecuteTime": {
     "end_time": "2025-06-13T17:05:14.942128Z",
     "start_time": "2025-06-13T17:05:14.938147Z"
    }
   },
   "cell_type": "code",
   "source": [
    "def conteo_de_frecuencia(dni):\n",
    "    conteo = {\n",
    "        '0': 0,\n",
    "        '1': 0,\n",
    "        '2': 0,\n",
    "        '3': 0,\n",
    "        '4': 0,\n",
    "        '5': 0,\n",
    "        '6': 0,\n",
    "        '7': 0,\n",
    "        '8': 0,\n",
    "        '9': 0\n",
    "    }\n",
    "\n",
    "    for numero in dni:\n",
    "        conteo[numero] += 1\n",
    "    return conteo\n",
    "print(\"Conteo Luciano: \", json.dumps(conteo_de_frecuencia(dni_luciano), indent=4))\n",
    "print(\"Conteo Santiago: \", json.dumps(conteo_de_frecuencia(dni_santiago), indent=4))"
   ],
   "id": "fecb94ef7e0b9143",
   "outputs": [
    {
     "name": "stdout",
     "output_type": "stream",
     "text": [
      "Conteo Luciano:  {\n",
      "    \"0\": 0,\n",
      "    \"1\": 0,\n",
      "    \"2\": 2,\n",
      "    \"3\": 1,\n",
      "    \"4\": 0,\n",
      "    \"5\": 1,\n",
      "    \"6\": 1,\n",
      "    \"7\": 1,\n",
      "    \"8\": 1,\n",
      "    \"9\": 1\n",
      "}\n",
      "Conteo Santiago:  {\n",
      "    \"0\": 2,\n",
      "    \"1\": 0,\n",
      "    \"2\": 0,\n",
      "    \"3\": 2,\n",
      "    \"4\": 1,\n",
      "    \"5\": 0,\n",
      "    \"6\": 1,\n",
      "    \"7\": 1,\n",
      "    \"8\": 0,\n",
      "    \"9\": 1\n",
      "}\n"
     ]
    }
   ],
   "execution_count": 21
  },
  {
   "metadata": {},
   "cell_type": "markdown",
   "source": [
    "5 . Redactar expresiones lógicas:\n",
    "* Evaluación de condiciones lógicas (condicionales), vinculadas con las expresiones escritas.\n",
    "* **Dígito común:**\n",
    "    * Si un dígito $x$ pertenece a $A$ Y $x$ pertenece a $B$, entonces $x$ es un dígito común.\n",
    "    * Formalmente: $x \\in A \\land x \\in B \\implies x \\text{ es dígito común}$\n"
   ],
   "id": "acde52887146421a"
  },
  {
   "metadata": {
    "ExecuteTime": {
     "end_time": "2025-06-13T17:05:52.998116Z",
     "start_time": "2025-06-13T17:05:52.993605Z"
    }
   },
   "cell_type": "code",
   "source": [
    "# Si algún dígito aparece en todos los conjuntos, se marca como dígito común.\n",
    "def digitos_comunes(conjunto1, conjunto2):\n",
    "    interseccion = calcular_interseccion(conjunto1, conjunto2)\n",
    "    conjunto_univesal = [0, 1, 2, 3, 4, 5, 6, 7, 8, 9]\n",
    "    for numero in conjunto_univesal:\n",
    "        if str(numero) in interseccion:\n",
    "            print(f\"Dígito común: {numero}\")\n",
    "        else:\n",
    "            print(f\"No pertenece a dígito común: {numero}\")\n",
    "\n",
    "print(\"Si algún dígito aparece en todos los conjuntos, se marca como dígito común:\")\n",
    "digitos_comunes(conjunto_a, conjunto_b)\n"
   ],
   "id": "37d97422bcbc5a0a",
   "outputs": [
    {
     "name": "stdout",
     "output_type": "stream",
     "text": [
      "Si algún dígito aparece en todos los conjuntos, se marca como dígito común:\n",
      "No pertenece a dígito común: 0\n",
      "No pertenece a dígito común: 1\n",
      "No pertenece a dígito común: 2\n",
      "Dígito común: 3\n",
      "No pertenece a dígito común: 4\n",
      "No pertenece a dígito común: 5\n",
      "Dígito común: 6\n",
      "Dígito común: 7\n",
      "No pertenece a dígito común: 8\n",
      "Dígito común: 9\n"
     ]
    }
   ],
   "execution_count": 22
  },
  {
   "metadata": {},
   "cell_type": "markdown",
   "source": [
    "* **Conjunto con predominio de dígitos altos:**\n",
    "    * Si la cantidad de números mayores o iguales a 5 en el conjunto es mayor que la cantidad de números menores a 5 en el conjunto, entonces el conjunto se marca como \"con predominio de dígitos altos\".\n",
    "    * Formalmente para un conjunto $S$: $|\\{n \\in S \\mid n \\ge 5\\}| > |\\{n \\in S \\mid n < 5\\}| \\implies S \\text{ es conjunto con predominio de dígitos altos}$"
   ],
   "id": "d91bf06877bcba45"
  },
  {
   "metadata": {
    "ExecuteTime": {
     "end_time": "2025-06-13T17:06:22.296308Z",
     "start_time": "2025-06-13T17:06:22.291746Z"
    }
   },
   "cell_type": "code",
   "source": [
    "# Si conjunto tiene más números mayores o iguales a 5 que menores a 5 se marca como conjunto con predominio de dígitos altos\n",
    "def calcular_predominio_digitos_altos(conjunto):\n",
    "    digitos_altos = 0\n",
    "    digitos_bajos = 0\n",
    "    for numero in conjunto:\n",
    "        if int(numero) >= 5:\n",
    "            digitos_altos += 1\n",
    "        else:\n",
    "            digitos_bajos += 1\n",
    "    if digitos_altos > digitos_bajos:\n",
    "        print(f\"{conjunto} es un conjunto predominio de dígitos altos\")\n",
    "    elif digitos_altos == digitos_bajos:\n",
    "        print(f\"{conjunto} es un conjunto sin predominio de dígitos\")\n",
    "    else:\n",
    "        print(f\"{conjunto} es un conjunto predominio de dígitos bajos\")\n",
    "calcular_predominio_digitos_altos(conjunto_a)\n",
    "calcular_predominio_digitos_altos(conjunto_b)"
   ],
   "id": "49b53e9e58c5f4b8",
   "outputs": [
    {
     "name": "stdout",
     "output_type": "stream",
     "text": [
      "['2', '3', '5', '6', '7', '8', '9'] es un conjunto predominio de dígitos altos\n",
      "['0', '3', '4', '6', '7', '9'] es un conjunto sin predominio de dígitos\n"
     ]
    }
   ],
   "execution_count": 23
  }
 ],
 "metadata": {
  "kernelspec": {
   "display_name": "Python 3",
   "language": "python",
   "name": "python3"
  },
  "language_info": {
   "codemirror_mode": {
    "name": "ipython",
    "version": 2
   },
   "file_extension": ".py",
   "mimetype": "text/x-python",
   "name": "python",
   "nbconvert_exporter": "python",
   "pygments_lexer": "ipython2",
   "version": "2.7.6"
  }
 },
 "nbformat": 4,
 "nbformat_minor": 5
}
